{
 "cells": [
  {
   "cell_type": "code",
   "execution_count": 2,
   "id": "cb41e907",
   "metadata": {},
   "outputs": [],
   "source": [
    "# CONNECTING WITH MYSQL DATABASE\n",
    "import mysql.connector\n",
    "mydb = mysql.connector.connect(host=\"127.0.0.1\",\n",
    "                   user=\"root\",\n",
    "                   password=\"Deepika#1630\",\n",
    "                   database=\"youtube_sql\"\n",
    "                   )\n",
    "mycursor = mydb.cursor(buffered=True)"
   ]
  },
  {
   "cell_type": "code",
   "execution_count": 4,
   "id": "de7e5e99",
   "metadata": {},
   "outputs": [],
   "source": [
    "def create_table():\n",
    "\n",
    "    channel_details = (\"create table channels (channel_id varchar(255),channel_name varchar(255), Playlist_id varchar(255),subscription_count int,views int,Total_videos int,channel_description text,country text);\")\n",
    "    mycursor.execute(channel_details)\n",
    "    return"
   ]
  },
  {
   "cell_type": "code",
   "execution_count": 5,
   "id": "dacd826b",
   "metadata": {},
   "outputs": [],
   "source": [
    "create_table()"
   ]
  },
  {
   "cell_type": "code",
   "execution_count": 6,
   "id": "d008cd6f",
   "metadata": {},
   "outputs": [],
   "source": [
    "def create_video():\n",
    "    \n",
    "    video_details = (\"create table videos (channel_name varchar(255),channel_id varchar(255),video_id varchar(255),title varchar(255),thumbnail varchar(255),video_description text, published_date varchar(255),Duration varchar(255), views int, likes int,comments int,favorite_count int,Definition varchar(255),Caption_status varchar(255));\")\n",
    "    mycursor.execute(video_details)\n",
    "    return"
   ]
  },
  {
   "cell_type": "code",
   "execution_count": 7,
   "id": "ecd39311",
   "metadata": {},
   "outputs": [],
   "source": [
    "create_video()"
   ]
  },
  {
   "cell_type": "code",
   "execution_count": 8,
   "id": "5df1ba8b",
   "metadata": {},
   "outputs": [],
   "source": [
    "def comments():\n",
    "    comments_details = (\"create table comments (comment_Id varchar(255), video_Id varchar(255), comment_text text, comment_author varchar(255), comment_posted_date varchar(255),like_count int,Reply_count int);\")\n",
    "    mycursor.execute(comments_details)\n",
    "    \n",
    "    return\n"
   ]
  },
  {
   "cell_type": "code",
   "execution_count": 9,
   "id": "ce878790",
   "metadata": {},
   "outputs": [],
   "source": [
    "comments()"
   ]
  },
  {
   "cell_type": "code",
   "execution_count": null,
   "id": "1c2bf477",
   "metadata": {},
   "outputs": [],
   "source": [
    "CREATE TABLE channels (\n",
    "    channel_id varchar(255) PRIMARY KEY,\n",
    "    channel_name varchar(255),\n",
    "    playlist_id varchar(255),\n",
    "    subscription_count int,\n",
    "    views int,\n",
    "    total_videos int,\n",
    "    channel_description text,\n",
    "    country text\n",
    ");\n",
    "\n",
    "CREATE TABLE videos (\n",
    "    channel_name varchar(255),\n",
    "    channel_id varchar(255),\n",
    "    video_id varchar(255) PRIMARY KEY,\n",
    "    title varchar(255),\n",
    "    thumbnail varchar(255),\n",
    "    video_description text,\n",
    "    published_date varchar(255),\n",
    "    duration varchar(255),\n",
    "    views int,\n",
    "    likes int,\n",
    "    comments int,\n",
    "    favorite_count int,\n",
    "    definition varchar(255),\n",
    "    caption_status varchar(255),\n",
    "    FOREIGN KEY (channel_id) REFERENCES channels(channel_id)\n",
    ");\n",
    "\n",
    "CREATE TABLE comments (\n",
    "    comment_Id varchar(255) PRIMARY KEY,\n",
    "    video_Id varchar(255),\n",
    "    comment_text text,\n",
    "    comment_author varchar(255),\n",
    "    comment_posted_date varchar(255),\n",
    "    like_count int,\n",
    "    Reply_count int,\n",
    "    FOREIGN KEY (video_Id) REFERENCES videos(video_id)\n",
    ");\n",
    "\n",
    "\n",
    "describe channels;\n",
    "describe videos;\n",
    "describe comments;\n",
    "\n",
    "select *from channels;\n",
    "select *from videos;\n",
    "select *from comments;"
   ]
  },
  {
   "cell_type": "code",
   "execution_count": null,
   "id": "ac0033d8",
   "metadata": {},
   "outputs": [],
   "source": []
  },
  {
   "cell_type": "code",
   "execution_count": null,
   "id": "42a40f38",
   "metadata": {},
   "outputs": [],
   "source": []
  },
  {
   "cell_type": "code",
   "execution_count": null,
   "id": "4f1f0240",
   "metadata": {},
   "outputs": [],
   "source": []
  },
  {
   "cell_type": "code",
   "execution_count": null,
   "id": "d838a18f",
   "metadata": {},
   "outputs": [],
   "source": []
  }
 ],
 "metadata": {
  "kernelspec": {
   "display_name": "Python 3 (ipykernel)",
   "language": "python",
   "name": "python3"
  },
  "language_info": {
   "codemirror_mode": {
    "name": "ipython",
    "version": 3
   },
   "file_extension": ".py",
   "mimetype": "text/x-python",
   "name": "python",
   "nbconvert_exporter": "python",
   "pygments_lexer": "ipython3",
   "version": "3.10.9"
  }
 },
 "nbformat": 4,
 "nbformat_minor": 5
}
